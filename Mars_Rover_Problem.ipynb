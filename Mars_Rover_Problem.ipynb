{
 "cells": [
  {
   "cell_type": "markdown",
   "metadata": {},
   "source": [
    "## Mars Rover Problem"
   ]
  },
  {
   "cell_type": "markdown",
   "metadata": {},
   "source": [
    "### Build an API to navigate a rover along a topographical grid representation of Mars.\n",
    "  \n",
    "  Requirements\n",
    "  \n",
    "  - The rover when initialized will have an initial starting point (x, y) as well as a direction (N, S, E, W) that it is facing.\n",
    "  - The rover should recieve its commands as a string array. It should then iterate over the array executing the commands in sequence until either a) all commands have succeeded in which case return a OK status along with location and direction or b) a command failed due to an obstacle in which case return an OBSTACLE status code along with last successful location and direction\n",
    "  - If the rover recieves invalid commands immediatly an INVALID_COMMAND status along with location and direction of the last successful command\n",
    "  - The rover may move forward/backward with the (F, B) commands\n",
    "  - The rover may turn left and right with the (L, R) commands\n",
    "  - If the rover encounters obstacles in the terrain then it should return its last successfull location as well as a OBSTACLE status\n",
    "  - If the rover encounters the edge of the world it should stop and return its last successfull location as well as a OBSTACLE status"
   ]
  },
  {
   "cell_type": "markdown",
   "metadata": {},
   "source": [
    "###   Extra Credit\n",
    "  \n",
    "  - add a moveTo() method that takes the (x,y) coordinates to move the rover along the most optimal path bypassing obstacles\n",
    "  - https://en.wikipedia.org/wiki/A*_search_algorithm\n",
    "  - https://en.wikipedia.org/wiki/Dijkstra's_algorithm"
   ]
  },
  {
   "cell_type": "code",
   "execution_count": 1,
   "metadata": {},
   "outputs": [],
   "source": [
    "world = [['P', 'P', 'P', 'C', 'P'],\n",
    "    ['P', 'M', 'P', 'C', 'P'],\n",
    "    ['P', 'M', 'P', 'C', 'P'],\n",
    "    ['P', 'M', 'P', 'P', 'P'],\n",
    "    ['P', 'M', 'P', 'P', 'P']]"
   ]
  },
  {
   "cell_type": "code",
   "execution_count": 2,
   "metadata": {},
   "outputs": [],
   "source": [
    "class Rover(object):\n",
    "    def __init__(self, location, direction):\n",
    "        self.location = location\n",
    "        self.direction = direction\n",
    "        \n",
    "        if (world[self.location[0]][self.location[1]] == 'M' or world[self.location[0]][self.location[1]] == 'C'):\n",
    "            print ('Invalid position. Must re-initalize rover onto open plain on topographical grid')\n",
    "            self.location = None\n",
    "            self.direction = None\n",
    "        elif (self.location[0] > len(world) or self.location[0] < 0 or self.location[1] > len(world) or self.location[1] < 0):\n",
    "            print ('Invalid position. Must re-initalize rover on topographcial grid')\n",
    "            self.location = None\n",
    "            self.direction = None"
   ]
  },
  {
   "cell_type": "code",
   "execution_count": 3,
   "metadata": {},
   "outputs": [],
   "source": [
    "def roverDirectionManipulation(commandTurn, direction):\n",
    "    if (direction == 'N'):\n",
    "        if (commandTurn == 'R'):\n",
    "            direction = 'E'\n",
    "            return direction\n",
    "        elif (commandTurn == 'L'):\n",
    "            direction = 'W'\n",
    "            return direction\n",
    "        \n",
    "    elif (direction == 'W'):\n",
    "        if (commandTurn == 'R'):\n",
    "            direction = 'N'\n",
    "            return direction\n",
    "        elif (commandTurn == 'L'):\n",
    "            direction = 'S'\n",
    "            return direction\n",
    "        \n",
    "    elif (direction == 'S'):\n",
    "        if (commandTurn == 'R'):\n",
    "            direction = 'W'\n",
    "            return direction\n",
    "        elif (commandTurn == 'L'):\n",
    "            direction = 'E'\n",
    "            return direction\n",
    "        \n",
    "    elif (direction == 'E'):\n",
    "        if (commandTurn == 'R'):\n",
    "            direction = 'S'\n",
    "            return direction\n",
    "        elif (commandTurn == 'L'):\n",
    "            direction = 'N'\n",
    "            return direction"
   ]
  },
  {
   "cell_type": "code",
   "execution_count": 4,
   "metadata": {},
   "outputs": [],
   "source": [
    "def roverMovement(command, rover):\n",
    "    if (rover.direction == 'N'):\n",
    "        if (command == 'F'):\n",
    "            rover.location[0] -= 1\n",
    "        elif (command == 'B'):\n",
    "            rover.location[0] += 1\n",
    "    elif (rover.direction == 'S'):\n",
    "        if (command == 'F'):\n",
    "            rover.location[0] += 1\n",
    "        elif (command == 'B'):\n",
    "            rover.location[0] -= 1\n",
    "            \n",
    "    elif (rover.direction == 'W'):\n",
    "        if (command == 'F'):\n",
    "            rover.location[1] -= 1\n",
    "        elif (command == 'B'):\n",
    "            rover.location[1] += 1\n",
    "            \n",
    "    elif (rover.direction == 'E'):\n",
    "        if (command == 'F'):\n",
    "            rover.location[1] += 1\n",
    "        elif (command == 'B'):\n",
    "            rover.location[1] -= 1\n",
    "    \n",
    "    return rover"
   ]
  },
  {
   "cell_type": "code",
   "execution_count": 5,
   "metadata": {},
   "outputs": [],
   "source": [
    "def sendCommands(commands, initialing_rover):\n",
    "    response = {'status':'','location':[],'direction':''}\n",
    "    rover = initialing_rover\n",
    "    response['location'].append(rover.location[1])\n",
    "    response['location'].append(rover.location[0])\n",
    "    response['direction'] = rover.direction\n",
    "\n",
    "    for command in commands:\n",
    "        \n",
    "        if (command == 'L' or command == 'R'):\n",
    "            rover.direction = roverDirectionManipulation(command, rover.direction)\n",
    "            response['location'][0] = rover.location[1]\n",
    "            response['location'][1]= rover.location[0]\n",
    "            response['direction'] = rover.direction\n",
    "            if (world[rover.location[0]][rover.location[1]] == 'P'):\n",
    "                response['status'] = 'OK'\n",
    "            else:\n",
    "                response['status'] = 'OBSTACLE'\n",
    "                \n",
    "        elif (command == 'F' or command == 'B'):\n",
    "            rover = roverMovement(command, rover)\n",
    "            if (world[rover.location[0]][rover.location[1]] == 'P' and (rover.location[0] >= 0 and rover.location[0] <= len(world) and rover.location[1] >= 0 and rover.location[1] <= len(world))):\n",
    "                response['status'] = 'OK'\n",
    "                response['location'][0] = rover.location[1]\n",
    "                response['location'][1] = rover.location[0]\n",
    "                response['direction'] = rover.direction\n",
    "            else:\n",
    "                response['status'] = 'OBSTACLE'\n",
    "                \n",
    "        else:\n",
    "            response['status'] = 'INVALID_COMMAND'\n",
    "            response['location'][0] = rover.location[1]\n",
    "            response['location'][1] = rover.location[0]\n",
    "            response['direction'] = rover.direction\n",
    "            \n",
    "        if (response['status'] != 'OK'):\n",
    "            break\n",
    "            \n",
    "    print (response)"
   ]
  },
  {
   "cell_type": "code",
   "execution_count": 6,
   "metadata": {},
   "outputs": [],
   "source": [
    "initialing_rover = Rover([1,0],'N')"
   ]
  },
  {
   "cell_type": "code",
   "execution_count": 7,
   "metadata": {},
   "outputs": [
    {
     "name": "stdout",
     "output_type": "stream",
     "text": [
      "{'status': 'OK', 'location': [2, 3], 'direction': 'S'}\n"
     ]
    }
   ],
   "source": [
    "sendCommands(['F','R','F','F','R','F','F','F'], initialing_rover)"
   ]
  },
  {
   "cell_type": "code",
   "execution_count": 8,
   "metadata": {},
   "outputs": [
    {
     "data": {
      "text/plain": [
       "[['P', 'P', 'P', 'C', 'P'],\n",
       " ['P', 'M', 'P', 'C', 'P'],\n",
       " ['P', 'M', 'P', 'C', 'P'],\n",
       " ['P', 'M', 'P', 'P', 'P'],\n",
       " ['P', 'M', 'P', 'P', 'P']]"
      ]
     },
     "execution_count": 8,
     "metadata": {},
     "output_type": "execute_result"
    }
   ],
   "source": [
    "world"
   ]
  },
  {
   "cell_type": "code",
   "execution_count": null,
   "metadata": {},
   "outputs": [],
   "source": []
  }
 ],
 "metadata": {
  "kernelspec": {
   "display_name": "Python 3",
   "language": "python",
   "name": "python3"
  },
  "language_info": {
   "codemirror_mode": {
    "name": "ipython",
    "version": 3
   },
   "file_extension": ".py",
   "mimetype": "text/x-python",
   "name": "python",
   "nbconvert_exporter": "python",
   "pygments_lexer": "ipython3",
   "version": "3.6.4"
  }
 },
 "nbformat": 4,
 "nbformat_minor": 2
}
